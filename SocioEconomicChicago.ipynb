{
 "metadata": {
  "language_info": {
   "codemirror_mode": {
    "name": "ipython",
    "version": 3
   },
   "file_extension": ".py",
   "mimetype": "text/x-python",
   "name": "python",
   "nbconvert_exporter": "python",
   "pygments_lexer": "ipython3",
   "version": "3.9.5"
  },
  "orig_nbformat": 2,
  "kernelspec": {
   "name": "python395jvsc74a57bd0aee8b7b246df8f9039afb4144a1f6fd8d2ca17a180786b69acc140d282b71a49",
   "display_name": "Python 3.9.5 64-bit"
  },
  "metadata": {
   "interpreter": {
    "hash": "aee8b7b246df8f9039afb4144a1f6fd8d2ca17a180786b69acc140d282b71a49"
   }
  }
 },
 "nbformat": 4,
 "nbformat_minor": 2,
 "cells": [
  {
   "cell_type": "code",
   "execution_count": 1,
   "metadata": {},
   "outputs": [],
   "source": [
    "%load_ext sql"
   ]
  },
  {
   "cell_type": "code",
   "execution_count": 2,
   "metadata": {},
   "outputs": [
    {
     "output_type": "stream",
     "name": "stdout",
     "text": [
      "DB2/LINUXX8664\n"
     ]
    }
   ],
   "source": [
    "%sql ibm_db_sa://tdh03812:z0%4039bg0z6ffmpsv@dashdb-txn-sbox-yp-dal09-08.services.dal.bluemix.net:50000/BLUDB"
   ]
  },
  {
   "source": [
    "# Using Joins"
   ],
   "cell_type": "markdown",
   "metadata": {}
  },
  {
   "source": [
    "## Question 1\n",
    "\n",
    "List the school names, community names and average attendance for communities with a hardship index of 98."
   ],
   "cell_type": "markdown",
   "metadata": {}
  },
  {
   "cell_type": "code",
   "execution_count": 9,
   "metadata": {},
   "outputs": [
    {
     "output_type": "stream",
     "name": "stdout",
     "text": [
      " * ibm_db_sa://tdh03812:***@dashdb-txn-sbox-yp-dal09-08.services.dal.bluemix.net:50000/BLUDB\nDone.\n"
     ]
    },
    {
     "output_type": "execute_result",
     "data": {
      "text/plain": [
       "[('RIVERDALE', 'George Washington Carver Military Academy High School', 98, '91.60%'),\n",
       " ('RIVERDALE', 'George Washington Carver Primary School', 98, '90.90%'),\n",
       " ('RIVERDALE', 'Ira F Aldridge Elementary School', 98, '92.90%'),\n",
       " ('RIVERDALE', 'William E B Dubois Elementary School', 98, '93.30%')]"
      ],
      "text/html": "<table>\n    <tr>\n        <th>community_area_name</th>\n        <th>name_of_school</th>\n        <th>hardship_index</th>\n        <th>average_student_attendance</th>\n    </tr>\n    <tr>\n        <td>RIVERDALE</td>\n        <td>George Washington Carver Military Academy High School</td>\n        <td>98</td>\n        <td>91.60%</td>\n    </tr>\n    <tr>\n        <td>RIVERDALE</td>\n        <td>George Washington Carver Primary School</td>\n        <td>98</td>\n        <td>90.90%</td>\n    </tr>\n    <tr>\n        <td>RIVERDALE</td>\n        <td>Ira F Aldridge Elementary School</td>\n        <td>98</td>\n        <td>92.90%</td>\n    </tr>\n    <tr>\n        <td>RIVERDALE</td>\n        <td>William E B Dubois Elementary School</td>\n        <td>98</td>\n        <td>93.30%</td>\n    </tr>\n</table>"
     },
     "metadata": {},
     "execution_count": 9
    }
   ],
   "source": [
    "%%sql\n",
    "\n",
    "SELECT PS.Community_area_name, PS.name_of_school, CD.Hardship_index, PS.Average_student_attendance\n",
    "FROM Public_schools AS PS\n",
    "INNER JOIN Census_data AS CD ON PS.Community_area_number = CD.Community_area_number\n",
    "WHERE CD.Hardship_index = 98"
   ]
  },
  {
   "source": [
    "## Question 2\n",
    "\n",
    "List all crimes that took place at a school. Include case number, crime type and community name."
   ],
   "cell_type": "markdown",
   "metadata": {}
  },
  {
   "cell_type": "code",
   "execution_count": 11,
   "metadata": {},
   "outputs": [
    {
     "output_type": "stream",
     "name": "stdout",
     "text": [
      " * ibm_db_sa://tdh03812:***@dashdb-txn-sbox-yp-dal09-08.services.dal.bluemix.net:50000/BLUDB\nDone.\n"
     ]
    },
    {
     "output_type": "execute_result",
     "data": {
      "text/plain": [
       "[('HK577020', 'NARCOTICS', 'Rogers Park'),\n",
       " ('HL725506', 'BATTERY', 'Lincoln Square'),\n",
       " ('HH639427', 'BATTERY', 'Austin'),\n",
       " ('HS200939', 'CRIMINAL DAMAGE', 'Austin'),\n",
       " ('HT315369', 'ASSAULT', 'East Garfield Park'),\n",
       " ('HP716225', 'BATTERY', 'Douglas'),\n",
       " ('HL353697', 'BATTERY', 'South Shore'),\n",
       " ('HS305355', 'NARCOTICS', 'Brighton Park'),\n",
       " ('JA460432', 'BATTERY', 'Ashburn'),\n",
       " ('HR585012', 'CRIMINAL TRESPASS', 'Ashburn')]"
      ],
      "text/html": "<table>\n    <tr>\n        <th>case_number</th>\n        <th>primary_type</th>\n        <th>community_area_name</th>\n    </tr>\n    <tr>\n        <td>HK577020</td>\n        <td>NARCOTICS</td>\n        <td>Rogers Park</td>\n    </tr>\n    <tr>\n        <td>HL725506</td>\n        <td>BATTERY</td>\n        <td>Lincoln Square</td>\n    </tr>\n    <tr>\n        <td>HH639427</td>\n        <td>BATTERY</td>\n        <td>Austin</td>\n    </tr>\n    <tr>\n        <td>HS200939</td>\n        <td>CRIMINAL DAMAGE</td>\n        <td>Austin</td>\n    </tr>\n    <tr>\n        <td>HT315369</td>\n        <td>ASSAULT</td>\n        <td>East Garfield Park</td>\n    </tr>\n    <tr>\n        <td>HP716225</td>\n        <td>BATTERY</td>\n        <td>Douglas</td>\n    </tr>\n    <tr>\n        <td>HL353697</td>\n        <td>BATTERY</td>\n        <td>South Shore</td>\n    </tr>\n    <tr>\n        <td>HS305355</td>\n        <td>NARCOTICS</td>\n        <td>Brighton Park</td>\n    </tr>\n    <tr>\n        <td>JA460432</td>\n        <td>BATTERY</td>\n        <td>Ashburn</td>\n    </tr>\n    <tr>\n        <td>HR585012</td>\n        <td>CRIMINAL TRESPASS</td>\n        <td>Ashburn</td>\n    </tr>\n</table>"
     },
     "metadata": {},
     "execution_count": 11
    }
   ],
   "source": [
    "%%sql\n",
    "\n",
    "SELECT CR.Case_number, CR.primary_type, CD.Community_area_name\n",
    "FROM Crime_data AS CR\n",
    "INNER JOIN Census_data AS CD ON CR.Community_area_number = CD.Community_area_number\n",
    "WHERE CR.Location_description LIKE '%SCHOOL%'"
   ]
  },
  {
   "source": [
    "# Creating a View"
   ],
   "cell_type": "markdown",
   "metadata": {}
  },
  {
   "cell_type": "code",
   "execution_count": null,
   "metadata": {},
   "outputs": [],
   "source": [
    "Column name in CHICAGO_PUBLIC_SCHOOLS\tColumn name in view\n",
    "NAME_OF_SCHOOL\tSchool_Name\n",
    "Safety_Icon\tSafety_Rating\n",
    "Family_Involvement_Icon\tFamily_Rating\n",
    "Environment_Icon\tEnvironment_Rating\n",
    "Instruction_Icon\tInstruction_Rating\n",
    "Leaders_Icon\tLeaders_Rating\n",
    "Teachers_Icon\tTeachers_Rating"
   ]
  }
 ]
}